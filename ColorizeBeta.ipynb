{
 "cells": [
  {
   "cell_type": "markdown",
   "metadata": {},
   "source": [
    "# Colorize b/w image"
   ]
  },
  {
   "cell_type": "markdown",
   "metadata": {},
   "source": [
    "## 1.imports needed"
   ]
  },
  {
   "cell_type": "code",
   "execution_count": 2,
   "metadata": {
    "collapsed": false
   },
   "outputs": [
    {
     "name": "stdout",
     "output_type": "stream",
     "text": [
      "done\n"
     ]
    }
   ],
   "source": [
    "from keras.layers import Conv2D, Conv2DTranspose, UpSampling2D\n",
    "from keras.layers import Activation, InputLayer\n",
    "from keras.models import Sequential,load_model\n",
    "from skimage.color import rgb2lab, lab2rgb, rgb2gray\n",
    "import numpy as np\n",
    "import os\n",
    "import cv2\n",
    "from skimage.io import imsave\n",
    "print(\"done\")"
   ]
  },
  {
   "cell_type": "markdown",
   "metadata": {},
   "source": [
    "## 2.Gpu threading setting"
   ]
  },
  {
   "cell_type": "code",
   "execution_count": 1,
   "metadata": {
    "collapsed": false
   },
   "outputs": [
    {
     "name": "stderr",
     "output_type": "stream",
     "text": [
      "F:\\Anaconda\\lib\\site-packages\\h5py\\__init__.py:36: FutureWarning: Conversion of the second argument of issubdtype from `float` to `np.floating` is deprecated. In future, it will be treated as `np.float64 == np.dtype(float).type`.\n",
      "  from ._conv import register_converters as _register_converters\n",
      "Using TensorFlow backend.\n"
     ]
    }
   ],
   "source": [
    "import tensorflow as tf\n",
    "from keras.backend.tensorflow_backend import set_session\n",
    "config = tf.ConfigProto()\n",
    "config.gpu_options.allow_growth = True\n",
    "config.gpu_options.per_process_gpu_memory_fraction = 0.3\n",
    "set_session(tf.Session(config=config))"
   ]
  },
  {
   "cell_type": "markdown",
   "metadata": {},
   "source": [
    "## 3.Training list"
   ]
  },
  {
   "cell_type": "markdown",
   "metadata": {},
   "source": [
    "<p>Current **issue**</p>\n",
    "Unable to load full dataset as float in ram for traning"
   ]
  },
  {
   "cell_type": "code",
   "execution_count": 3,
   "metadata": {
    "collapsed": false
   },
   "outputs": [
    {
     "name": "stdout",
     "output_type": "stream",
     "text": [
      "done\n"
     ]
    }
   ],
   "source": [
    "X=[]\n",
    "src = './images/Train/'\n",
    "i=0\n",
    "for filename in os.listdir(src):\n",
    "    if i>2000:\n",
    "        break;\n",
    "    i=i+1;\n",
    "    image = cv2.imread(src+filename)\n",
    "    image = cv2.cvtColor(image,cv2.COLOR_BGR2RGB)\n",
    "    X.append(image)\n",
    "    \n",
    "Xt = np.array(X,dtype=np.float32)\n",
    "print(\"done\")"
   ]
  },
  {
   "cell_type": "code",
   "execution_count": 4,
   "metadata": {
    "collapsed": true
   },
   "outputs": [],
   "source": [
    "del X"
   ]
  },
  {
   "cell_type": "code",
   "execution_count": 5,
   "metadata": {
    "collapsed": false
   },
   "outputs": [],
   "source": [
    "X=Xt[:2000]"
   ]
  },
  {
   "cell_type": "code",
   "execution_count": 6,
   "metadata": {
    "collapsed": false
   },
   "outputs": [],
   "source": [
    "del Xt"
   ]
  },
  {
   "cell_type": "markdown",
   "metadata": {},
   "source": [
    "## 4.Preprocessing"
   ]
  },
  {
   "cell_type": "markdown",
   "metadata": {},
   "source": [
    "It is slow even for **400** images\n",
    "<p>~~1000~~ image bad idea pc will crash</p>"
   ]
  },
  {
   "cell_type": "code",
   "execution_count": null,
   "metadata": {
    "collapsed": false
   },
   "outputs": [],
   "source": [
    "X=1.0/255*X\n",
    "Y=rgb2lab(X)[:,:,:,1:] / 128\n",
    "X=rgb2lab(X)[:,:,:,0]"
   ]
  },
  {
   "cell_type": "markdown",
   "metadata": {},
   "source": [
    "## 5.Network model"
   ]
  },
  {
   "cell_type": "markdown",
   "metadata": {},
   "source": [
    "***Build a better architecture***\n",
    "<p>This one <em>sucks</em></p>"
   ]
  },
  {
   "cell_type": "code",
   "execution_count": null,
   "metadata": {
    "collapsed": false
   },
   "outputs": [],
   "source": [
    "model = Sequential()\n",
    "model.add(InputLayer(input_shape=(256, 256, 1)))\n",
    "model.add(Conv2D(8, (3, 3), activation='relu', padding='same', strides=2))\n",
    "model.add(Conv2D(8, (3, 3), activation='relu', padding='same'))\n",
    "model.add(Conv2D(16, (3, 3), activation='relu', padding='same'))\n",
    "model.add(Conv2D(16, (3, 3), activation='relu', padding='same', strides=2))\n",
    "model.add(Conv2D(32, (3, 3), activation='relu', padding='same'))\n",
    "model.add(Conv2D(32, (3, 3), activation='relu', padding='same', strides=2))\n",
    "model.add(UpSampling2D((2, 2)))\n",
    "model.add(Conv2D(32, (3, 3), activation='relu', padding='same'))\n",
    "model.add(UpSampling2D((2, 2)))\n",
    "model.add(Conv2D(16, (3, 3), activation='relu', padding='same'))\n",
    "model.add(UpSampling2D((2, 2)))\n",
    "model.add(Conv2D(2, (3, 3), activation='tanh', padding='same'))\n",
    "\n",
    "# Finish model\n",
    "model.compile(optimizer='adam', loss='mse')"
   ]
  },
  {
   "cell_type": "markdown",
   "metadata": {},
   "source": [
    "<p>**adam** works better than **rmsprop**</p>\n",
    "<p>need to find better <strong>loss funtion</strong> probably custom implementation of weighted cross entropy.<p>"
   ]
  },
  {
   "cell_type": "code",
   "execution_count": null,
   "metadata": {
    "collapsed": false
   },
   "outputs": [],
   "source": [
    "X=X.reshape((1000,256,256,1))\n",
    "Y=Y.reshape((1000,256,256,2))\n",
    "model.fit(x=X,y=Y, batch_size=4, epochs=100, verbose=2)\n",
    "\n",
    "model.save('betagpu-adam-boosted')"
   ]
  },
  {
   "cell_type": "markdown",
   "metadata": {},
   "source": [
    "## Test Code"
   ]
  },
  {
   "cell_type": "code",
   "execution_count": 24,
   "metadata": {
    "collapsed": false
   },
   "outputs": [
    {
     "name": "stderr",
     "output_type": "stream",
     "text": [
      "F:\\Anaconda\\lib\\site-packages\\skimage\\util\\dtype.py:110: UserWarning: Possible precision loss when converting from float64 to uint8\n",
      "  \"%s to %s\" % (dtypeobj_in, dtypeobj))\n"
     ]
    }
   ],
   "source": [
    "src='test7.jpg'\n",
    "testimage = cv2.imread(src)\n",
    "testimage = cv2.resize(testimage,(256,256))\n",
    "testimage = cv2.cvtColor(testimage, cv2.COLOR_BGR2RGB)\n",
    "testimage = np.array(testimage,dtype = float)\n",
    "testimage = rgb2lab(1.0/255*testimage)[:,:,0]\n",
    "testimage=testimage.reshape((1,256,256,1))\n",
    "#testimage=X[0]\n",
    "#testimage=testimage.reshape((1,256,256,1))\n",
    "model=load_model('betagpu-adam')\n",
    "output=model.predict(testimage)\n",
    "output*=128\n",
    "res=np.zeros((256,256,3))\n",
    "res[:,:,0]=testimage[0][:,:,0]\n",
    "res[:,:,1:]=output[0]\n",
    "imsave(\"img_result3.png\",lab2rgb(res))"
   ]
  },
  {
   "cell_type": "markdown",
   "metadata": {},
   "source": [
    "- Have to print graphs for loss function and accuracy.\n",
    "- Insertt architecture image.\n",
    "- any outher documentation part needed"
   ]
  },
  {
   "cell_type": "code",
   "execution_count": 5,
   "metadata": {
    "collapsed": false
   },
   "outputs": [
    {
     "data": {
      "text/plain": [
       "True"
      ]
     },
     "execution_count": 5,
     "metadata": {},
     "output_type": "execute_result"
    }
   ],
   "source": [
    "bck=cv2.imread(\"../Minor2017/res\"+src[-6:])\n",
    "cv2.imwrite(\"img_result3.png\",bck)"
   ]
  },
  {
   "cell_type": "code",
   "execution_count": 26,
   "metadata": {
    "collapsed": false
   },
   "outputs": [
    {
     "name": "stdout",
     "output_type": "stream",
     "text": [
      "done\n"
     ]
    }
   ],
   "source": [
    "import cv2 as cv\n",
    "import numpy as np\n",
    "\n",
    "img = cv.imread(\"img_result3.png\");\n",
    "gray = cv.cvtColor(img,cv.COLOR_BGR2GRAY);\n",
    "gray = cv.GaussianBlur(gray,(3,3),0)\n",
    "\n",
    "edge = cv.Canny(gray,230,250);\n",
    "_,edge = cv.threshold(edge,127,255,cv.THRESH_BINARY)\n",
    "edge = cv.cvtColor(edge,cv.COLOR_GRAY2BGR);\n",
    "alpha=1.5\n",
    "beta=-50\n",
    "result = cv.addWeighted(img, alpha, edge,-0.3,beta);\n",
    "#result = cv.addWeighted(img, alpha, np.zeros(img.shape,img.dtype),0,beta);\n",
    "\n",
    "cv.imwrite(\"res.png\", result);\n",
    "print(\"done\");"
   ]
  }
 ],
 "metadata": {
  "kernelspec": {
   "display_name": "Python 3",
   "language": "python",
   "name": "python3"
  },
  "language_info": {
   "codemirror_mode": {
    "name": "ipython",
    "version": 3
   },
   "file_extension": ".py",
   "mimetype": "text/x-python",
   "name": "python",
   "nbconvert_exporter": "python",
   "pygments_lexer": "ipython3",
   "version": "3.6.0"
  }
 },
 "nbformat": 4,
 "nbformat_minor": 2
}
